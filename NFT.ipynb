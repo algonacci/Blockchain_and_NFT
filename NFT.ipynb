{
 "cells": [
  {
   "cell_type": "code",
   "execution_count": 1,
   "id": "232c6850",
   "metadata": {},
   "outputs": [],
   "source": [
    "from PIL import Image \n",
    "from IPython.display import display \n",
    "import random\n",
    "import json\n",
    "import os"
   ]
  },
  {
   "cell_type": "code",
   "execution_count": 2,
   "id": "3039894c",
   "metadata": {},
   "outputs": [],
   "source": [
    "face = [\"White\", \"Black\"] \n",
    "face_weights = [60, 40]\n",
    "\n",
    "ears = [\"ears1\", \"ears2\", \"ears3\", \"ears4\"] \n",
    "ears_weights = [25, 30 , 44, 1]\n",
    "\n",
    "eyes = [\"regular\", \"small\", \"rayban\", \"hipster\", \"focused\"] \n",
    "eyes_weights = [70, 10, 5, 1, 14]\n",
    "\n",
    "hair = ['hair1', 'hair10', 'hair11', 'hair12', 'hair2', 'hair3', 'hair4',\n",
    " 'hair5',\n",
    " 'hair6',\n",
    " 'hair7',\n",
    " 'hair8',\n",
    " 'hair9']\n",
    "hair_weights = [10 , 10 , 10 , 10 ,10, 10, 10 ,10 ,10, 7 , 1 , 2]\n",
    "\n",
    "mouth = ['m1', 'm2', 'm3', 'm4', 'm5', 'm6']\n",
    "mouth_weights = [10, 10,50, 10,15, 5]\n",
    "\n",
    "nose = ['n1', 'n2']\n",
    "nose_weights = [90, 10]"
   ]
  },
  {
   "cell_type": "code",
   "execution_count": 3,
   "id": "e7bd0617",
   "metadata": {},
   "outputs": [],
   "source": [
    "face_files = {\n",
    "    \"White\": \"face1\",\n",
    "    \"Black\": \"face2\"\n",
    "}\n",
    "\n",
    "ears_files = {\n",
    "    \"ears1\": \"ears1\",\n",
    "    \"ears2\": \"ears2\",\n",
    "    \"ears3\": \"ears3\",\n",
    "    \"ears4\": \"ears4\"\n",
    "}\n",
    "\n",
    "eyes_files = {\n",
    "    \"regular\": \"eyes1\",\n",
    "    \"small\": \"eyes2\",\n",
    "    \"rayban\": \"eyes3\",\n",
    "    \"hipster\": \"eyes4\",\n",
    "    \"focused\": \"eyes5\"     \n",
    "}\n",
    "\n",
    "hair_files = {\n",
    "    \"hair1\": \"hair1\",\n",
    "    \"hair2\": \"hair2\",\n",
    "    \"hair3\": \"hair3\",\n",
    "    \"hair4\": \"hair4\",\n",
    "    \"hair5\": \"hair5\",\n",
    "    \"hair6\": \"hair6\",\n",
    "    \"hair7\": \"hair7\",\n",
    "    \"hair8\": \"hair8\",\n",
    "    \"hair9\": \"hair9\",\n",
    "    \"hair10\": \"hair10\",\n",
    "    \"hair11\": \"hair11\",\n",
    "    \"hair12\": \"hair12\"\n",
    "}\n",
    "\n",
    "mouth_files = {\n",
    "    \"m1\": \"m1\",\n",
    "    \"m2\": \"m2\",\n",
    "    \"m3\": \"m3\",\n",
    "    \"m4\": \"m4\",\n",
    "    \"m5\": \"m5\",\n",
    "    \"m6\": \"m6\"\n",
    "}\n",
    "\n",
    "nose_files = {\n",
    "    \"n1\": \"n1\",\n",
    "    \"n2\": \"n2\"   \n",
    "}"
   ]
  },
  {
   "cell_type": "code",
   "execution_count": 4,
   "id": "4fea06fc",
   "metadata": {},
   "outputs": [],
   "source": [
    "TOTAL_IMAGES = 100 # Number of random unique images we want to generate\n",
    "\n",
    "all_images = [] \n",
    "\n",
    "# A recursive function to generate unique image combinations\n",
    "def create_new_image():\n",
    "    \n",
    "    new_image = {} #\n",
    "\n",
    "    # For each trait category, select a random trait based on the weightings \n",
    "    new_image [\"Face\"] = random.choices(face, face_weights)[0]\n",
    "    new_image [\"Ears\"] = random.choices(ears, ears_weights)[0]\n",
    "    new_image [\"Eyes\"] = random.choices(eyes, eyes_weights)[0]\n",
    "    new_image [\"Hair\"] = random.choices(hair, hair_weights)[0]\n",
    "    new_image [\"Mouth\"] = random.choices(mouth, mouth_weights)[0]\n",
    "    new_image [\"Nose\"] = random.choices(nose, nose_weights)[0]\n",
    "    \n",
    "    if new_image in all_images:\n",
    "        return create_new_image()\n",
    "    else:\n",
    "        return new_image\n",
    "    \n",
    "    \n",
    "# Generate the unique combinations based on trait weightings\n",
    "for i in range(TOTAL_IMAGES): \n",
    "    \n",
    "    new_trait_image = create_new_image()\n",
    "    \n",
    "    all_images.append(new_trait_image)"
   ]
  },
  {
   "cell_type": "code",
   "execution_count": 5,
   "id": "6edfd139",
   "metadata": {},
   "outputs": [
    {
     "name": "stdout",
     "output_type": "stream",
     "text": [
      "Are all images unique? True\n",
      "[{'Face': 'White', 'Ears': 'ears2', 'Eyes': 'regular', 'Hair': 'hair4', 'Mouth': 'm1', 'Nose': 'n1', 'tokenId': 0}, {'Face': 'White', 'Ears': 'ears2', 'Eyes': 'regular', 'Hair': 'hair11', 'Mouth': 'm3', 'Nose': 'n1', 'tokenId': 1}, {'Face': 'Black', 'Ears': 'ears1', 'Eyes': 'focused', 'Hair': 'hair1', 'Mouth': 'm4', 'Nose': 'n2', 'tokenId': 2}, {'Face': 'White', 'Ears': 'ears2', 'Eyes': 'focused', 'Hair': 'hair2', 'Mouth': 'm3', 'Nose': 'n1', 'tokenId': 3}, {'Face': 'Black', 'Ears': 'ears2', 'Eyes': 'regular', 'Hair': 'hair7', 'Mouth': 'm4', 'Nose': 'n1', 'tokenId': 4}, {'Face': 'White', 'Ears': 'ears3', 'Eyes': 'regular', 'Hair': 'hair6', 'Mouth': 'm1', 'Nose': 'n1', 'tokenId': 5}, {'Face': 'Black', 'Ears': 'ears1', 'Eyes': 'regular', 'Hair': 'hair1', 'Mouth': 'm3', 'Nose': 'n1', 'tokenId': 6}, {'Face': 'White', 'Ears': 'ears1', 'Eyes': 'regular', 'Hair': 'hair6', 'Mouth': 'm3', 'Nose': 'n1', 'tokenId': 7}, {'Face': 'White', 'Ears': 'ears2', 'Eyes': 'regular', 'Hair': 'hair7', 'Mouth': 'm2', 'Nose': 'n1', 'tokenId': 8}, {'Face': 'Black', 'Ears': 'ears1', 'Eyes': 'regular', 'Hair': 'hair5', 'Mouth': 'm2', 'Nose': 'n1', 'tokenId': 9}, {'Face': 'Black', 'Ears': 'ears3', 'Eyes': 'regular', 'Hair': 'hair5', 'Mouth': 'm3', 'Nose': 'n1', 'tokenId': 10}, {'Face': 'Black', 'Ears': 'ears2', 'Eyes': 'regular', 'Hair': 'hair12', 'Mouth': 'm3', 'Nose': 'n1', 'tokenId': 11}, {'Face': 'Black', 'Ears': 'ears2', 'Eyes': 'regular', 'Hair': 'hair1', 'Mouth': 'm4', 'Nose': 'n1', 'tokenId': 12}, {'Face': 'Black', 'Ears': 'ears2', 'Eyes': 'regular', 'Hair': 'hair7', 'Mouth': 'm5', 'Nose': 'n1', 'tokenId': 13}, {'Face': 'Black', 'Ears': 'ears3', 'Eyes': 'regular', 'Hair': 'hair4', 'Mouth': 'm3', 'Nose': 'n1', 'tokenId': 14}, {'Face': 'Black', 'Ears': 'ears1', 'Eyes': 'regular', 'Hair': 'hair3', 'Mouth': 'm3', 'Nose': 'n1', 'tokenId': 15}, {'Face': 'Black', 'Ears': 'ears2', 'Eyes': 'small', 'Hair': 'hair6', 'Mouth': 'm3', 'Nose': 'n2', 'tokenId': 16}, {'Face': 'White', 'Ears': 'ears1', 'Eyes': 'rayban', 'Hair': 'hair5', 'Mouth': 'm3', 'Nose': 'n1', 'tokenId': 17}, {'Face': 'Black', 'Ears': 'ears3', 'Eyes': 'regular', 'Hair': 'hair6', 'Mouth': 'm1', 'Nose': 'n1', 'tokenId': 18}, {'Face': 'White', 'Ears': 'ears1', 'Eyes': 'regular', 'Hair': 'hair2', 'Mouth': 'm5', 'Nose': 'n1', 'tokenId': 19}, {'Face': 'Black', 'Ears': 'ears3', 'Eyes': 'regular', 'Hair': 'hair2', 'Mouth': 'm1', 'Nose': 'n2', 'tokenId': 20}, {'Face': 'Black', 'Ears': 'ears1', 'Eyes': 'focused', 'Hair': 'hair4', 'Mouth': 'm3', 'Nose': 'n1', 'tokenId': 21}, {'Face': 'White', 'Ears': 'ears1', 'Eyes': 'regular', 'Hair': 'hair7', 'Mouth': 'm3', 'Nose': 'n1', 'tokenId': 22}, {'Face': 'White', 'Ears': 'ears3', 'Eyes': 'small', 'Hair': 'hair11', 'Mouth': 'm3', 'Nose': 'n1', 'tokenId': 23}, {'Face': 'Black', 'Ears': 'ears2', 'Eyes': 'rayban', 'Hair': 'hair3', 'Mouth': 'm6', 'Nose': 'n1', 'tokenId': 24}, {'Face': 'White', 'Ears': 'ears1', 'Eyes': 'regular', 'Hair': 'hair2', 'Mouth': 'm3', 'Nose': 'n2', 'tokenId': 25}, {'Face': 'Black', 'Ears': 'ears3', 'Eyes': 'rayban', 'Hair': 'hair1', 'Mouth': 'm3', 'Nose': 'n1', 'tokenId': 26}, {'Face': 'White', 'Ears': 'ears1', 'Eyes': 'regular', 'Hair': 'hair4', 'Mouth': 'm4', 'Nose': 'n1', 'tokenId': 27}, {'Face': 'Black', 'Ears': 'ears2', 'Eyes': 'regular', 'Hair': 'hair5', 'Mouth': 'm6', 'Nose': 'n1', 'tokenId': 28}, {'Face': 'Black', 'Ears': 'ears1', 'Eyes': 'regular', 'Hair': 'hair4', 'Mouth': 'm3', 'Nose': 'n1', 'tokenId': 29}, {'Face': 'Black', 'Ears': 'ears3', 'Eyes': 'regular', 'Hair': 'hair10', 'Mouth': 'm3', 'Nose': 'n1', 'tokenId': 30}, {'Face': 'White', 'Ears': 'ears1', 'Eyes': 'regular', 'Hair': 'hair2', 'Mouth': 'm1', 'Nose': 'n1', 'tokenId': 31}, {'Face': 'White', 'Ears': 'ears3', 'Eyes': 'focused', 'Hair': 'hair5', 'Mouth': 'm1', 'Nose': 'n1', 'tokenId': 32}, {'Face': 'Black', 'Ears': 'ears3', 'Eyes': 'regular', 'Hair': 'hair3', 'Mouth': 'm4', 'Nose': 'n1', 'tokenId': 33}, {'Face': 'White', 'Ears': 'ears2', 'Eyes': 'regular', 'Hair': 'hair1', 'Mouth': 'm3', 'Nose': 'n1', 'tokenId': 34}, {'Face': 'Black', 'Ears': 'ears3', 'Eyes': 'small', 'Hair': 'hair1', 'Mouth': 'm2', 'Nose': 'n1', 'tokenId': 35}, {'Face': 'White', 'Ears': 'ears3', 'Eyes': 'regular', 'Hair': 'hair9', 'Mouth': 'm5', 'Nose': 'n1', 'tokenId': 36}, {'Face': 'White', 'Ears': 'ears3', 'Eyes': 'regular', 'Hair': 'hair1', 'Mouth': 'm4', 'Nose': 'n2', 'tokenId': 37}, {'Face': 'Black', 'Ears': 'ears2', 'Eyes': 'regular', 'Hair': 'hair4', 'Mouth': 'm3', 'Nose': 'n1', 'tokenId': 38}, {'Face': 'Black', 'Ears': 'ears1', 'Eyes': 'regular', 'Hair': 'hair12', 'Mouth': 'm5', 'Nose': 'n1', 'tokenId': 39}, {'Face': 'Black', 'Ears': 'ears3', 'Eyes': 'focused', 'Hair': 'hair11', 'Mouth': 'm5', 'Nose': 'n1', 'tokenId': 40}, {'Face': 'Black', 'Ears': 'ears2', 'Eyes': 'small', 'Hair': 'hair1', 'Mouth': 'm5', 'Nose': 'n1', 'tokenId': 41}, {'Face': 'White', 'Ears': 'ears3', 'Eyes': 'regular', 'Hair': 'hair6', 'Mouth': 'm4', 'Nose': 'n1', 'tokenId': 42}, {'Face': 'White', 'Ears': 'ears3', 'Eyes': 'regular', 'Hair': 'hair10', 'Mouth': 'm3', 'Nose': 'n1', 'tokenId': 43}, {'Face': 'Black', 'Ears': 'ears2', 'Eyes': 'regular', 'Hair': 'hair6', 'Mouth': 'm4', 'Nose': 'n1', 'tokenId': 44}, {'Face': 'White', 'Ears': 'ears2', 'Eyes': 'small', 'Hair': 'hair1', 'Mouth': 'm3', 'Nose': 'n1', 'tokenId': 45}, {'Face': 'Black', 'Ears': 'ears1', 'Eyes': 'regular', 'Hair': 'hair4', 'Mouth': 'm3', 'Nose': 'n2', 'tokenId': 46}, {'Face': 'White', 'Ears': 'ears3', 'Eyes': 'regular', 'Hair': 'hair3', 'Mouth': 'm3', 'Nose': 'n1', 'tokenId': 47}, {'Face': 'White', 'Ears': 'ears3', 'Eyes': 'regular', 'Hair': 'hair7', 'Mouth': 'm3', 'Nose': 'n1', 'tokenId': 48}, {'Face': 'Black', 'Ears': 'ears3', 'Eyes': 'focused', 'Hair': 'hair6', 'Mouth': 'm3', 'Nose': 'n1', 'tokenId': 49}, {'Face': 'Black', 'Ears': 'ears3', 'Eyes': 'focused', 'Hair': 'hair2', 'Mouth': 'm2', 'Nose': 'n1', 'tokenId': 50}, {'Face': 'Black', 'Ears': 'ears2', 'Eyes': 'focused', 'Hair': 'hair1', 'Mouth': 'm3', 'Nose': 'n1', 'tokenId': 51}, {'Face': 'Black', 'Ears': 'ears1', 'Eyes': 'focused', 'Hair': 'hair10', 'Mouth': 'm3', 'Nose': 'n1', 'tokenId': 52}, {'Face': 'Black', 'Ears': 'ears3', 'Eyes': 'focused', 'Hair': 'hair10', 'Mouth': 'm5', 'Nose': 'n1', 'tokenId': 53}, {'Face': 'White', 'Ears': 'ears2', 'Eyes': 'regular', 'Hair': 'hair5', 'Mouth': 'm3', 'Nose': 'n1', 'tokenId': 54}, {'Face': 'White', 'Ears': 'ears1', 'Eyes': 'focused', 'Hair': 'hair1', 'Mouth': 'm3', 'Nose': 'n1', 'tokenId': 55}, {'Face': 'Black', 'Ears': 'ears1', 'Eyes': 'regular', 'Hair': 'hair6', 'Mouth': 'm5', 'Nose': 'n1', 'tokenId': 56}, {'Face': 'Black', 'Ears': 'ears2', 'Eyes': 'small', 'Hair': 'hair12', 'Mouth': 'm4', 'Nose': 'n1', 'tokenId': 57}, {'Face': 'White', 'Ears': 'ears3', 'Eyes': 'regular', 'Hair': 'hair10', 'Mouth': 'm4', 'Nose': 'n1', 'tokenId': 58}, {'Face': 'White', 'Ears': 'ears1', 'Eyes': 'rayban', 'Hair': 'hair5', 'Mouth': 'm3', 'Nose': 'n2', 'tokenId': 59}, {'Face': 'Black', 'Ears': 'ears2', 'Eyes': 'regular', 'Hair': 'hair4', 'Mouth': 'm2', 'Nose': 'n1', 'tokenId': 60}, {'Face': 'Black', 'Ears': 'ears3', 'Eyes': 'small', 'Hair': 'hair2', 'Mouth': 'm3', 'Nose': 'n1', 'tokenId': 61}, {'Face': 'White', 'Ears': 'ears1', 'Eyes': 'regular', 'Hair': 'hair6', 'Mouth': 'm6', 'Nose': 'n1', 'tokenId': 62}, {'Face': 'Black', 'Ears': 'ears2', 'Eyes': 'regular', 'Hair': 'hair8', 'Mouth': 'm3', 'Nose': 'n1', 'tokenId': 63}, {'Face': 'Black', 'Ears': 'ears2', 'Eyes': 'regular', 'Hair': 'hair1', 'Mouth': 'm1', 'Nose': 'n1', 'tokenId': 64}, {'Face': 'White', 'Ears': 'ears2', 'Eyes': 'regular', 'Hair': 'hair7', 'Mouth': 'm1', 'Nose': 'n1', 'tokenId': 65}, {'Face': 'White', 'Ears': 'ears3', 'Eyes': 'regular', 'Hair': 'hair11', 'Mouth': 'm5', 'Nose': 'n1', 'tokenId': 66}, {'Face': 'White', 'Ears': 'ears2', 'Eyes': 'regular', 'Hair': 'hair4', 'Mouth': 'm3', 'Nose': 'n1', 'tokenId': 67}, {'Face': 'Black', 'Ears': 'ears3', 'Eyes': 'small', 'Hair': 'hair5', 'Mouth': 'm3', 'Nose': 'n1', 'tokenId': 68}, {'Face': 'Black', 'Ears': 'ears2', 'Eyes': 'focused', 'Hair': 'hair5', 'Mouth': 'm4', 'Nose': 'n1', 'tokenId': 69}, {'Face': 'White', 'Ears': 'ears3', 'Eyes': 'regular', 'Hair': 'hair10', 'Mouth': 'm6', 'Nose': 'n1', 'tokenId': 70}, {'Face': 'White', 'Ears': 'ears2', 'Eyes': 'regular', 'Hair': 'hair6', 'Mouth': 'm4', 'Nose': 'n1', 'tokenId': 71}, {'Face': 'Black', 'Ears': 'ears3', 'Eyes': 'focused', 'Hair': 'hair7', 'Mouth': 'm3', 'Nose': 'n1', 'tokenId': 72}, {'Face': 'White', 'Ears': 'ears3', 'Eyes': 'regular', 'Hair': 'hair7', 'Mouth': 'm2', 'Nose': 'n1', 'tokenId': 73}, {'Face': 'White', 'Ears': 'ears2', 'Eyes': 'small', 'Hair': 'hair7', 'Mouth': 'm5', 'Nose': 'n1', 'tokenId': 74}, {'Face': 'Black', 'Ears': 'ears1', 'Eyes': 'small', 'Hair': 'hair6', 'Mouth': 'm5', 'Nose': 'n1', 'tokenId': 75}, {'Face': 'Black', 'Ears': 'ears2', 'Eyes': 'small', 'Hair': 'hair10', 'Mouth': 'm3', 'Nose': 'n1', 'tokenId': 76}, {'Face': 'Black', 'Ears': 'ears2', 'Eyes': 'regular', 'Hair': 'hair3', 'Mouth': 'm3', 'Nose': 'n1', 'tokenId': 77}, {'Face': 'White', 'Ears': 'ears3', 'Eyes': 'regular', 'Hair': 'hair7', 'Mouth': 'm1', 'Nose': 'n1', 'tokenId': 78}, {'Face': 'White', 'Ears': 'ears1', 'Eyes': 'regular', 'Hair': 'hair2', 'Mouth': 'm3', 'Nose': 'n1', 'tokenId': 79}, {'Face': 'White', 'Ears': 'ears2', 'Eyes': 'regular', 'Hair': 'hair3', 'Mouth': 'm3', 'Nose': 'n1', 'tokenId': 80}, {'Face': 'Black', 'Ears': 'ears3', 'Eyes': 'regular', 'Hair': 'hair3', 'Mouth': 'm2', 'Nose': 'n1', 'tokenId': 81}, {'Face': 'White', 'Ears': 'ears3', 'Eyes': 'regular', 'Hair': 'hair1', 'Mouth': 'm4', 'Nose': 'n1', 'tokenId': 82}, {'Face': 'White', 'Ears': 'ears3', 'Eyes': 'regular', 'Hair': 'hair11', 'Mouth': 'm3', 'Nose': 'n1', 'tokenId': 83}, {'Face': 'White', 'Ears': 'ears3', 'Eyes': 'regular', 'Hair': 'hair11', 'Mouth': 'm1', 'Nose': 'n1', 'tokenId': 84}, {'Face': 'White', 'Ears': 'ears3', 'Eyes': 'rayban', 'Hair': 'hair2', 'Mouth': 'm5', 'Nose': 'n1', 'tokenId': 85}, {'Face': 'White', 'Ears': 'ears1', 'Eyes': 'focused', 'Hair': 'hair7', 'Mouth': 'm6', 'Nose': 'n1', 'tokenId': 86}, {'Face': 'Black', 'Ears': 'ears3', 'Eyes': 'focused', 'Hair': 'hair6', 'Mouth': 'm4', 'Nose': 'n1', 'tokenId': 87}, {'Face': 'White', 'Ears': 'ears3', 'Eyes': 'regular', 'Hair': 'hair6', 'Mouth': 'm3', 'Nose': 'n1', 'tokenId': 88}, {'Face': 'White', 'Ears': 'ears1', 'Eyes': 'regular', 'Hair': 'hair10', 'Mouth': 'm3', 'Nose': 'n1', 'tokenId': 89}, {'Face': 'Black', 'Ears': 'ears1', 'Eyes': 'rayban', 'Hair': 'hair4', 'Mouth': 'm4', 'Nose': 'n1', 'tokenId': 90}, {'Face': 'White', 'Ears': 'ears3', 'Eyes': 'small', 'Hair': 'hair4', 'Mouth': 'm2', 'Nose': 'n1', 'tokenId': 91}, {'Face': 'Black', 'Ears': 'ears1', 'Eyes': 'regular', 'Hair': 'hair12', 'Mouth': 'm3', 'Nose': 'n1', 'tokenId': 92}, {'Face': 'Black', 'Ears': 'ears3', 'Eyes': 'focused', 'Hair': 'hair12', 'Mouth': 'm1', 'Nose': 'n1', 'tokenId': 93}, {'Face': 'White', 'Ears': 'ears3', 'Eyes': 'small', 'Hair': 'hair11', 'Mouth': 'm5', 'Nose': 'n1', 'tokenId': 94}, {'Face': 'Black', 'Ears': 'ears3', 'Eyes': 'regular', 'Hair': 'hair3', 'Mouth': 'm6', 'Nose': 'n1', 'tokenId': 95}, {'Face': 'White', 'Ears': 'ears1', 'Eyes': 'hipster', 'Hair': 'hair10', 'Mouth': 'm3', 'Nose': 'n1', 'tokenId': 96}, {'Face': 'White', 'Ears': 'ears1', 'Eyes': 'regular', 'Hair': 'hair5', 'Mouth': 'm1', 'Nose': 'n1', 'tokenId': 97}, {'Face': 'Black', 'Ears': 'ears2', 'Eyes': 'regular', 'Hair': 'hair1', 'Mouth': 'm2', 'Nose': 'n1', 'tokenId': 98}, {'Face': 'White', 'Ears': 'ears2', 'Eyes': 'regular', 'Hair': 'hair12', 'Mouth': 'm3', 'Nose': 'n1', 'tokenId': 99}]\n"
     ]
    }
   ],
   "source": [
    "def all_images_unique(all_images):\n",
    "    seen = list()\n",
    "    return not any(i in seen or seen.append(i) for i in all_images)\n",
    "\n",
    "print(\"Are all images unique?\", all_images_unique(all_images))\n",
    "# Add token Id to each image\n",
    "i = 0\n",
    "for item in all_images:\n",
    "    item[\"tokenId\"] = i\n",
    "    i = i + 1\n",
    "   \n",
    "print(all_images)"
   ]
  },
  {
   "cell_type": "code",
   "execution_count": 6,
   "id": "ddbaa81e",
   "metadata": {},
   "outputs": [
    {
     "name": "stdout",
     "output_type": "stream",
     "text": [
      "{'White': 49, 'Black': 51}\n",
      "{'ears1': 28, 'ears2': 32, 'ears3': 40, 'ears4': 0}\n",
      "{'regular': 64, 'small': 13, 'rayban': 6, 'hipster': 1, 'focused': 16}\n",
      "{'hair1': 14, 'hair10': 9, 'hair11': 7, 'hair12': 6, 'hair2': 9, 'hair3': 8, 'hair4': 11, 'hair5': 10, 'hair6': 13, 'hair7': 11, 'hair8': 1, 'hair9': 1}\n",
      "{'m1': 12, 'm2': 9, 'm3': 45, 'm4': 15, 'm5': 13, 'm6': 6}\n",
      "{'n1': 93, 'n2': 7}\n"
     ]
    }
   ],
   "source": [
    "face_count = {}\n",
    "for item in face:\n",
    "    face_count[item] = 0\n",
    "    \n",
    "ears_count = {}\n",
    "for item in ears:\n",
    "    ears_count[item] = 0\n",
    "\n",
    "eyes_count = {}\n",
    "for item in eyes:\n",
    "    eyes_count[item] = 0\n",
    "    \n",
    "hair_count = {}\n",
    "for item in hair:\n",
    "    hair_count[item] = 0\n",
    "    \n",
    "mouth_count = {}\n",
    "for item in mouth:\n",
    "    mouth_count[item] = 0\n",
    "    \n",
    "nose_count = {}\n",
    "for item in nose:\n",
    "    nose_count[item] = 0\n",
    "\n",
    "for image in all_images:\n",
    "    face_count[image[\"Face\"]] += 1\n",
    "    ears_count[image[\"Ears\"]] += 1\n",
    "    eyes_count[image[\"Eyes\"]] += 1\n",
    "    hair_count[image[\"Hair\"]] += 1\n",
    "    mouth_count[image[\"Mouth\"]] += 1\n",
    "    nose_count[image[\"Nose\"]] += 1\n",
    "    \n",
    "print(face_count)\n",
    "print(ears_count)\n",
    "print(eyes_count)\n",
    "print(hair_count)\n",
    "print(mouth_count)\n",
    "print(nose_count)"
   ]
  },
  {
   "cell_type": "code",
   "execution_count": 7,
   "id": "e9bf5b3e",
   "metadata": {},
   "outputs": [
    {
     "data": {
      "text/plain": [
       "{'Face': 'White',\n",
       " 'Ears': 'ears2',\n",
       " 'Eyes': 'regular',\n",
       " 'Hair': 'hair11',\n",
       " 'Mouth': 'm3',\n",
       " 'Nose': 'n1',\n",
       " 'tokenId': 1}"
      ]
     },
     "execution_count": 7,
     "metadata": {},
     "output_type": "execute_result"
    }
   ],
   "source": [
    "all_images[1]"
   ]
  },
  {
   "cell_type": "code",
   "execution_count": 8,
   "id": "95f9adb4",
   "metadata": {},
   "outputs": [],
   "source": [
    "for item in all_images:\n",
    "\n",
    "    im1 = Image.open(f'./trait-layers/face/{face_files[item[\"Face\"]]}.png').convert('RGBA')\n",
    "    im2 = Image.open(f'./trait-layers/eyes/{eyes_files[item[\"Eyes\"]]}.png').convert('RGBA')\n",
    "    im3 = Image.open(f'./trait-layers/ears/{ears_files[item[\"Ears\"]]}.png').convert('RGBA')\n",
    "    im4 = Image.open(f'./trait-layers/hair/{hair_files[item[\"Hair\"]]}.png').convert('RGBA')\n",
    "    im5 = Image.open(f'./trait-layers/mouth/{mouth_files[item[\"Mouth\"]]}.png').convert('RGBA')\n",
    "    im6 = Image.open(f'./trait-layers/nose/{nose_files[item[\"Nose\"]]}.png').convert('RGBA')\n",
    "\n",
    "    #Create each composite\n",
    "    com1 = Image.alpha_composite(im1, im2)\n",
    "    com2 = Image.alpha_composite(com1, im3)\n",
    "    com3 = Image.alpha_composite(com2, im4)\n",
    "    com4 = Image.alpha_composite(com3, im5)\n",
    "    com5 = Image.alpha_composite(com4, im6)\n",
    "\n",
    "                     \n",
    "\n",
    "    #Convert to RGB\n",
    "    rgb_im = com5.convert('RGB')\n",
    "    file_name = str(item[\"tokenId\"]) + \".png\"\n",
    "    rgb_im.save(\"./images/\" + file_name)"
   ]
  },
  {
   "cell_type": "code",
   "execution_count": 9,
   "id": "e2297513",
   "metadata": {},
   "outputs": [
    {
     "data": {
      "image/png": "[encoded data removed]",
      "text/plain": [
       "<Figure size 432x288 with 9 Axes>"
      ]
     },
     "metadata": {
      "needs_background": "light"
     },
     "output_type": "display_data"
    }
   ],
   "source": [
    "from matplotlib import pyplot\n",
    "from matplotlib.image import imread\n",
    "folder = 'images/'     #folder where your photos are store\n",
    "# plot first few images\n",
    "for i in range(9):\n",
    "    # define subplot\n",
    "    pyplot.subplot(330 + 1 + i)\n",
    "    x= folder + str(i) + '.png'\n",
    "    # load image pixels\n",
    "    image = imread(x)\n",
    "    # plot raw pixel data\n",
    "    pyplot.imshow(image)"
   ]
  }
 ],
 "metadata": {
  "kernelspec": {
   "display_name": "Python 3 (ipykernel)",
   "language": "python",
   "name": "python3"
  },
  "language_info": {
   "codemirror_mode": {
    "name": "ipython",
    "version": 3
   },
   "file_extension": ".py",
   "mimetype": "text/x-python",
   "name": "python",
   "nbconvert_exporter": "python",
   "pygments_lexer": "ipython3",
   "version": "3.9.6"
  }
 },
 "nbformat": 4,
 "nbformat_minor": 5
}
